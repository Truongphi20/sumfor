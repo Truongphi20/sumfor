{
 "cells": [
  {
   "cell_type": "code",
   "execution_count": 1,
   "id": "781cc239-574c-4398-a0a5-0a046768a562",
   "metadata": {},
   "outputs": [],
   "source": [
    "import numpy as np"
   ]
  },
  {
   "cell_type": "markdown",
   "id": "4721e1b0-fb9c-4de5-bb1d-82f3dc0e62a6",
   "metadata": {},
   "source": [
    "### Create triagle matrix"
   ]
  },
  {
   "cell_type": "code",
   "execution_count": 50,
   "id": "93e5174f-dd47-4570-8fc0-b44d864ed5f6",
   "metadata": {},
   "outputs": [
    {
     "data": {
      "text/plain": [
       "array([[-1.        ,  1.        ,  0.        ,  0.        ],\n",
       "       [-1.        ,  0.5       ,  0.5       ,  0.        ],\n",
       "       [-1.        ,  0.16666667,  0.5       ,  0.33333333]])"
      ]
     },
     "execution_count": 50,
     "metadata": {},
     "output_type": "execute_result"
    }
   ],
   "source": [
    "class TriMatrix:\n",
    "    def __init__(self):\n",
    "        self.matrix = np.array([])\n",
    "\n",
    "    def _poli_sum_on_row(self, base_number, row_index):\n",
    "        sum = 0\n",
    "        for index, value in enumerate(self.matrix[row_index]):\n",
    "            sum += value*base_number**index\n",
    "        return sum\n",
    "\n",
    "    def call_triagle(self, level, below_num):\n",
    "        process_num = below_num - 1\n",
    "        self.matrix = np.zeros((level, level+1))\n",
    "\n",
    "        current_row_index = 0\n",
    "        current_col_index = 1\n",
    "        while True:\n",
    "            if (current_row_index == 0) and (current_col_index == 1):\n",
    "                self.matrix[current_row_index][current_col_index] = 1\n",
    "                    \n",
    "            elif current_col_index == 0:\n",
    "                self.matrix[current_row_index][current_col_index] = - self._poli_sum_on_row(process_num, current_row_index)\n",
    "\n",
    "            elif current_col_index == 1:\n",
    "                self.matrix[current_row_index][current_col_index] = 1 - np.sum(self.matrix[current_row_index])\n",
    "\n",
    "            else:\n",
    "                self.matrix[current_row_index][current_col_index] = current_row_index/current_col_index * self.matrix[current_row_index-1][current_col_index-1]\n",
    "\n",
    "            if (current_row_index == level-1) and (current_col_index == 0):\n",
    "                break\n",
    "            \n",
    "            current_row_index += 1\n",
    "            current_col_index += 1\n",
    "\n",
    "            if current_row_index == level:\n",
    "                current_row_index = level + 1 - current_col_index\n",
    "                current_col_index = 0\n",
    "\n",
    "        return self.matrix\n",
    "\n",
    "\n",
    "\n",
    "tri = TriMatrix()\n",
    "tri.call_triagle(3, 2)\n",
    "        "
   ]
  },
  {
   "cell_type": "markdown",
   "id": "7cbf99cc-c3b3-4438-84e3-e9fe79b37614",
   "metadata": {},
   "source": [
    "### Example: Find the sum formula:\n",
    "\n",
    "$$f(x) = \\sum^{x}_{x=3}{\\sum^{x}_{x=2}{x+1}}$$"
   ]
  },
  {
   "cell_type": "code",
   "execution_count": 52,
   "id": "f5b79dae-9770-43a6-a69f-c056371ce8c9",
   "metadata": {},
   "outputs": [
    {
     "data": {
      "text/plain": [
       "array([[-3.        , -1.16666667,  1.        ,  0.16666667]])"
      ]
     },
     "execution_count": 52,
     "metadata": {},
     "output_type": "execute_result"
    }
   ],
   "source": [
    "input_matrix = np.array([[1, 1]])\n",
    "\n",
    "input_matrix @ tri.call_triagle(input_matrix.shape[1], 2) @ tri.call_triagle(input_matrix.shape[1]+1, 3)"
   ]
  },
  {
   "cell_type": "markdown",
   "id": "849cf176-c014-4735-b67d-91ac5a0ed6a9",
   "metadata": {},
   "source": [
    "$$\\Rightarrow f(x) = -3 - \\frac{7}{6}x + x^2 + \\frac{1}{6}x^3$$"
   ]
  }
 ],
 "metadata": {
  "kernelspec": {
   "display_name": "Python 3 (ipykernel)",
   "language": "python",
   "name": "python3"
  },
  "language_info": {
   "codemirror_mode": {
    "name": "ipython",
    "version": 3
   },
   "file_extension": ".py",
   "mimetype": "text/x-python",
   "name": "python",
   "nbconvert_exporter": "python",
   "pygments_lexer": "ipython3",
   "version": "3.11.12"
  }
 },
 "nbformat": 4,
 "nbformat_minor": 5
}
