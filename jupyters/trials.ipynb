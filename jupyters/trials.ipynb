{
 "cells": [
  {
   "cell_type": "code",
   "execution_count": 2,
   "id": "781cc239-574c-4398-a0a5-0a046768a562",
   "metadata": {
    "execution": {
     "iopub.execute_input": "2025-07-10T12:02:36.259304Z",
     "iopub.status.busy": "2025-07-10T12:02:36.259047Z",
     "iopub.status.idle": "2025-07-10T12:02:37.981198Z",
     "shell.execute_reply": "2025-07-10T12:02:37.980778Z",
     "shell.execute_reply.started": "2025-07-10T12:02:36.259287Z"
    }
   },
   "outputs": [],
   "source": [
    "import numpy as np\n",
    "import sympy as sp"
   ]
  },
  {
   "cell_type": "markdown",
   "id": "60e2aa14-a593-40e3-9ce9-54d11954ebdb",
   "metadata": {},
   "source": [
    "$$F(x) = \\sum^{u(x)}_{k=\\alpha}{f(k)}$$\n",
    "\n",
    "$$\\Rightarrow v_{F(x)} = v_{f(x)}.T.P$$\n",
    "\n",
    "\n",
    "- $T$: Triagle matrix\n",
    "- $P$: Post matrix"
   ]
  },
  {
   "cell_type": "markdown",
   "id": "4721e1b0-fb9c-4de5-bb1d-82f3dc0e62a6",
   "metadata": {},
   "source": [
    "### Create triagle matrix"
   ]
  },
  {
   "cell_type": "code",
   "execution_count": 28,
   "id": "93e5174f-dd47-4570-8fc0-b44d864ed5f6",
   "metadata": {
    "execution": {
     "iopub.execute_input": "2025-07-10T13:18:07.569172Z",
     "iopub.status.busy": "2025-07-10T13:18:07.568929Z",
     "iopub.status.idle": "2025-07-10T13:18:07.599630Z",
     "shell.execute_reply": "2025-07-10T13:18:07.598614Z",
     "shell.execute_reply.started": "2025-07-10T13:18:07.569153Z"
    }
   },
   "outputs": [
    {
     "data": {
      "text/plain": [
       "array([[-1.        ,  1.        ,  0.        ,  0.        ],\n",
       "       [-1.        ,  0.5       ,  0.5       ,  0.        ],\n",
       "       [-1.        ,  0.16666667,  0.5       ,  0.33333333]])"
      ]
     },
     "execution_count": 28,
     "metadata": {},
     "output_type": "execute_result"
    }
   ],
   "source": [
    "class TriMatrix:\n",
    "    def __init__(self):\n",
    "        self.matrix = np.array([])\n",
    "        self.post_matrix = np.array([])\n",
    "\n",
    "    @staticmethod\n",
    "    def _expand_poly(coeffs, degree):\n",
    "        result = np.array([1], dtype=np.int64)\n",
    "        for _ in range(degree):\n",
    "            result = np.convolve(result, coeffs)\n",
    "        return result\n",
    "\n",
    "    def _poli_sum_on_row(self, base_number, row_index):\n",
    "        sum = 0\n",
    "        for index, value in enumerate(self.matrix[row_index]):\n",
    "            sum += value*base_number**index\n",
    "        return sum\n",
    "\n",
    "    def call_triagle(self, level, below_num, upper_formula=np.array([0, 1])):\n",
    "\n",
    "        # Call triagle matrix\n",
    "        process_num = below_num - 1\n",
    "        self.matrix = np.zeros((level, level+1))\n",
    "\n",
    "        current_row_index = 0\n",
    "        current_col_index = 1\n",
    "        while True:\n",
    "            if (current_row_index == 0) and (current_col_index == 1):\n",
    "                self.matrix[current_row_index][current_col_index] = 1\n",
    "                    \n",
    "            elif current_col_index == 0:\n",
    "                self.matrix[current_row_index][current_col_index] = - self._poli_sum_on_row(process_num, current_row_index)\n",
    "\n",
    "            elif current_col_index == 1:\n",
    "                self.matrix[current_row_index][current_col_index] = 1 - np.sum(self.matrix[current_row_index])\n",
    "\n",
    "            else:\n",
    "                self.matrix[current_row_index][current_col_index] = current_row_index/current_col_index * self.matrix[current_row_index-1][current_col_index-1]\n",
    "\n",
    "            if (current_row_index == level-1) and (current_col_index == 0):\n",
    "                break\n",
    "            \n",
    "            current_row_index += 1\n",
    "            current_col_index += 1\n",
    "\n",
    "            if current_row_index == level:\n",
    "                current_row_index = level + 1 - current_col_index\n",
    "                current_col_index = 0\n",
    "\n",
    "        # Call post matrix to handle upper fence\n",
    "        tmp_col_num = (len(upper_formula)-1)*(level+1)\n",
    "        self.post_matrix = np.zeros((level+1, tmp_col_num))\n",
    "\n",
    "        for degree in range(level+1):\n",
    "            tmp_list = self._expand_poly(upper_formula, degree)\n",
    "            for col_index in range(tmp_list.size):\n",
    "                self.post_matrix[degree][col_index] = tmp_list[col_index]\n",
    "\n",
    "\n",
    "        return self.matrix @ self.post_matrix\n",
    "\n",
    "\n",
    "\n",
    "tri = TriMatrix()\n",
    "tri.call_triagle(3, 2, [0, 1])\n",
    "        "
   ]
  },
  {
   "cell_type": "markdown",
   "id": "7cbf99cc-c3b3-4438-84e3-e9fe79b37614",
   "metadata": {},
   "source": [
    "### Example 1: Find the sum formula:\n",
    "\n",
    "$$f(x) = \\sum^{x}_{x=3}{\\sum^{x}_{x=2}{x+1}}$$"
   ]
  },
  {
   "cell_type": "code",
   "execution_count": 24,
   "id": "f5b79dae-9770-43a6-a69f-c056371ce8c9",
   "metadata": {
    "execution": {
     "iopub.execute_input": "2025-07-10T13:12:56.840486Z",
     "iopub.status.busy": "2025-07-10T13:12:56.840045Z",
     "iopub.status.idle": "2025-07-10T13:12:56.861507Z",
     "shell.execute_reply": "2025-07-10T13:12:56.860620Z",
     "shell.execute_reply.started": "2025-07-10T13:12:56.840452Z"
    }
   },
   "outputs": [
    {
     "data": {
      "text/plain": [
       "array([[-3.        , -1.16666667,  1.        ,  0.16666667]])"
      ]
     },
     "execution_count": 24,
     "metadata": {},
     "output_type": "execute_result"
    }
   ],
   "source": [
    "input_matrix = np.array([[1, 1]])\n",
    "\n",
    "input_matrix @ tri.call_triagle(input_matrix.shape[1], 2) @ tri.call_triagle(input_matrix.shape[1]+1, 3)"
   ]
  },
  {
   "cell_type": "markdown",
   "id": "849cf176-c014-4735-b67d-91ac5a0ed6a9",
   "metadata": {},
   "source": [
    "$$\\Rightarrow f(x) = -3 - \\frac{7}{6}x + x^2 + \\frac{1}{6}x^3$$"
   ]
  },
  {
   "cell_type": "markdown",
   "id": "c2bdde29-6bf1-4e59-aef2-548d5aece0f1",
   "metadata": {},
   "source": [
    "### Example 2: Find the sum formula \n",
    "\n",
    "$$f(x) = \\sum^{x}_{x=3}{\\sum^{2x+1}_{x=2}{(x^2+x+1)}}$$"
   ]
  },
  {
   "cell_type": "code",
   "execution_count": 39,
   "id": "f6433c35-eab2-4efa-a2b6-35935191e88a",
   "metadata": {
    "execution": {
     "iopub.execute_input": "2025-07-10T13:51:32.586069Z",
     "iopub.status.busy": "2025-07-10T13:51:32.585588Z",
     "iopub.status.idle": "2025-07-10T13:51:32.602216Z",
     "shell.execute_reply": "2025-07-10T13:51:32.601097Z",
     "shell.execute_reply.started": "2025-07-10T13:51:32.586033Z"
    }
   },
   "outputs": [
    {
     "data": {
      "text/plain": [
       "array([[-92.        ,   6.        ,   9.33333333,   4.        ,\n",
       "          0.66666667]])"
      ]
     },
     "execution_count": 39,
     "metadata": {},
     "output_type": "execute_result"
    }
   ],
   "source": [
    "input_matrix_2 = np.array([[1, 1, 1]])\n",
    "\n",
    "input_matrix_2 @ tri.call_triagle(input_matrix_2.shape[1], 2, [1, 2]) @ tri.call_triagle(input_matrix_2.shape[1]+1, 3)"
   ]
  },
  {
   "cell_type": "markdown",
   "id": "629bad53-0ea1-4298-b027-0ae7f0641b11",
   "metadata": {},
   "source": [
    "$$\\Rightarrow f(x) = -92 + 6x + \\frac{28}{3}x^2 + 4x^3 + \\frac{2}{3}x^4 $$"
   ]
  }
 ],
 "metadata": {
  "kernelspec": {
   "display_name": "Python 3 (ipykernel)",
   "language": "python",
   "name": "python3"
  },
  "language_info": {
   "codemirror_mode": {
    "name": "ipython",
    "version": 3
   },
   "file_extension": ".py",
   "mimetype": "text/x-python",
   "name": "python",
   "nbconvert_exporter": "python",
   "pygments_lexer": "ipython3",
   "version": "3.11.13"
  }
 },
 "nbformat": 4,
 "nbformat_minor": 5
}
